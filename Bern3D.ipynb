{
 "cells": [
  {
   "cell_type": "code",
   "execution_count": 1,
   "metadata": {},
   "outputs": [],
   "source": [
    "from Bern3D import *\n",
    "import numpy as np\n",
    "import numba\n",
    "from numba.typed import List"
   ]
  },
  {
   "cell_type": "code",
   "execution_count": 3,
   "metadata": {},
   "outputs": [
    {
     "name": "stdout",
     "output_type": "stream",
     "text": [
      "0.23954803235172228\n",
      "0.09692416398827208\n",
      "0.05581479346223728\n",
      "0.03835379784380566\n",
      "0.03139753745800511\n",
      "0.02494103603800002\n",
      "0.020081256342975085\n",
      "0.01539024769116315\n",
      "0.01187991056206028\n",
      "0.009079446095126564\n",
      "0.006860586279803127\n",
      "0.005176913695970176\n",
      "0.00397767300309404\n",
      "0.0031131288140729962\n",
      "0.002402996189383888\n",
      "0.0018422204894035232\n",
      "0.0014074118346756315\n",
      "0.0010732305338491122\n",
      "0.0008175586052689976\n",
      "0.0006224346214735998\n",
      "0.0004737321004670836\n",
      "0.00036055426204462115\n",
      "0.0002745031866258074\n",
      "0.00020892517375070696\n",
      "0.00015926079767802914\n",
      "0.0001267132716444852\n",
      "9.952782105004943e-05\n",
      "7.778164494487427e-05\n",
      "6.0027276651219985e-05\n",
      "4.6006012261567975e-05\n",
      "3.5125455814855044e-05\n",
      "2.6761262445385015e-05\n",
      "2.0364566057251565e-05\n",
      "1.548653518679277e-05\n",
      "1.1772555782663119e-05\n",
      "8.9473788847938e-06\n",
      "6.799382662237008e-06\n",
      "5.1667116121034695e-06\n",
      "3.925931342685374e-06\n",
      "3.3069934421980918e-06\n",
      "2.6553652072713874e-06\n",
      "2.06994784079928e-06\n",
      "1.5934560865238367e-06\n",
      "1.2192483813677768e-06\n",
      "9.299778365168265e-07\n",
      "45\n"
     ]
    }
   ],
   "source": [
    "foo = Bernoulli3Diffusion(theta=0.7, cost=-.005, sigma=(0.7,0.7), state_range=30)\n",
    "# view_solution(foo)"
   ]
  },
  {
   "cell_type": "code",
   "execution_count": 11,
   "metadata": {},
   "outputs": [
    {
     "data": {
      "text/plain": [
       "(0.9299443981767546, ListType[unicode_type]([x1, ...]))"
      ]
     },
     "execution_count": 11,
     "metadata": {},
     "output_type": "execute_result"
    }
   ],
   "source": [
    "foo.state_sample_value_max((1,1),10)"
   ]
  },
  {
   "cell_type": "code",
   "execution_count": 12,
   "metadata": {},
   "outputs": [],
   "source": [
    "zs = np.array([-3, -2, 0, 3])\n",
    "Y = solution_as_array(foo)[:, :, zs + foo.state_range]\n",
    "x = np.arange(-foo.state_range - .5, foo.state_range + 1)"
   ]
  },
  {
   "cell_type": "code",
   "execution_count": 13,
   "metadata": {},
   "outputs": [],
   "source": [
    "z0s = np.linspace(-4,4,5, dtype=int)\n",
    "rt_inc = [foo.performance((True, False), True, (0,0), z0, int(2e4))[0] for z0 in z0s]\n",
    "rt_con = [foo.performance((True, True), True, (0,0), z0, int(2e4))[0] for z0 in z0s]"
   ]
  },
  {
   "cell_type": "code",
   "execution_count": 14,
   "metadata": {},
   "outputs": [
    {
     "data": {
      "text/plain": [
       "[<matplotlib.axis.XTick at 0x7fcbc6bf5bd0>,\n",
       " <matplotlib.axis.XTick at 0x7fcbc70c80d0>,\n",
       " <matplotlib.axis.XTick at 0x7fcbc7098850>]"
      ]
     },
     "execution_count": 14,
     "metadata": {},
     "output_type": "execute_result"
    },
    {
     "data": {
      "image/png": "[encoded data removed]",
      "text/plain": [
       "<Figure size 640x480 with 5 Axes>"
      ]
     },
     "metadata": {},
     "output_type": "display_data"
    }
   ],
   "source": [
    "bigfig = plt.figure(layout='constrained')\n",
    "fig_region, fig_rt = bigfig.subfigures(1, 2, width_ratios=(2.4, 1))\n",
    "\n",
    "ymin = 0.6\n",
    "ymax = np.max(Y)\n",
    "axs = fig_region.subplots(1, len(zs), sharey=True)\n",
    "for i, ax in enumerate(axs):\n",
    "    ax.pcolormesh(x, x, Y[:,:,i], vmin=ymin, vmax=ymax)\n",
    "    # ax.annotate('', (0,0), (7.5,7.5), arrowprops=dict(arrowstyle='<-')) #color='tab:purple'\n",
    "    # ax.annotate('', (0,0), (-7.5,-7.5), arrowprops=dict(arrowstyle='<-')) #color='tab:purple', \n",
    "    # ax.annotate('', (0,0), (-7.5,7.5), arrowprops=dict(arrowstyle='<-', linestyle='--')) #color='tab:orange\n",
    "    # ax.annotate('', (0,0), (7.5,-7.5), arrowprops=dict(arrowstyle='<-', linestyle='--')) #color='tab:orange'\n",
    "    # ax.annotate('blue',(-19,-19),color='blue')\n",
    "    # ax.annotate('blue',(-19,15),color='tab:red')\n",
    "    # ax.annotate('red',(12,15),color='tab:red')\n",
    "    # ax.annotate('red',(12,-19),color='blue')\n",
    "    ax.set_title(r'$z='+str(zs[i])+'$')\n",
    "    ax.set_aspect(1)\n",
    "    ax.set_xticks([0])\n",
    "    ax.set_yticks([])\n",
    "axs[0].set_yticks([0])\n",
    "axs[0].set_ylabel(r'$y_c$')\n",
    "axs[1].set_xlabel(r'$y_w$')\n",
    "\n",
    "ax_rt = fig_rt.subplots()\n",
    "ax_rt.plot(z0s, rt_con, color='black')\n",
    "ax_rt.plot(z0s, rt_inc, linestyle='--', color='black')\n",
    "ax_rt.set_aspect(np.diff(ax_rt.get_xlim())[0] / np.diff(ax_rt.get_ylim())[0])\n",
    "# ax_rt.set_xlabel('Switch   ' + r'$z_0$' + '  Repeat')\n",
    "ax_rt.set_xlabel(r'$z_0$')\n",
    "ax_rt.set_ylabel('Reaction Time')\n",
    "ax_rt.set_title('Switch effect')\n",
    "ax_rt.annotate('Repeat', xy=(.7,-0.34), xycoords=\"axes fraction\")\n",
    "ax_rt.annotate('Switch', xy=(-.1,-0.35), xycoords=\"axes fraction\")\n",
    "ax_rt.set_xticks([-3,0,3])\n"
   ]
  },
  {
   "cell_type": "code",
   "execution_count": null,
   "metadata": {},
   "outputs": [],
   "source": []
  }
 ],
 "metadata": {
  "kernelspec": {
   "display_name": "taskuncertainty",
   "language": "python",
   "name": "python3"
  },
  "language_info": {
   "codemirror_mode": {
    "name": "ipython",
    "version": 3
   },
   "file_extension": ".py",
   "mimetype": "text/x-python",
   "name": "python",
   "nbconvert_exporter": "python",
   "pygments_lexer": "ipython3",
   "version": "3.11.5"
  }
 },
 "nbformat": 4,
 "nbformat_minor": 2
}
