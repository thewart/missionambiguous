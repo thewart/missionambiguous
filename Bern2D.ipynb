{
 "cells": [
  {
   "cell_type": "code",
   "execution_count": 1,
   "metadata": {},
   "outputs": [],
   "source": [
    "from Bern2D import *\n",
    "import numpy as np"
   ]
  },
  {
   "cell_type": "code",
   "execution_count": 11,
   "metadata": {},
   "outputs": [
    {
     "name": "stdout",
     "output_type": "stream",
     "text": [
      "0.1451179060398562\n",
      "0.08016293877014813\n",
      "0.0698982043738835\n",
      "0.059914548840518056\n",
      "0.050295997825518635\n",
      "0.04134696329775367\n",
      "0.03323564333760065\n",
      "0.02574981777903207\n",
      "0.01965413558100071\n",
      "0.014714248189406032\n",
      "0.012354477694019428\n",
      "0.010874641902187565\n",
      "0.009657891538141783\n",
      "0.00862285779666827\n",
      "0.00789932810930849\n",
      "0.007298407851529132\n",
      "0.006768333384429059\n",
      "0.006289791667650313\n",
      "0.005855424385303176\n",
      "0.005452986845808194\n",
      "0.005087360823423426\n",
      "0.004754395039939352\n",
      "0.004451392668426313\n",
      "0.004170937443113143\n",
      "0.0039080637477463265\n",
      "0.003667037744147339\n",
      "0.003442514511492023\n",
      "0.003236738998898203\n",
      "0.003042214728319892\n",
      "0.0028594252277791554\n",
      "0.0026909327791500015\n",
      "0.0025342124181784165\n",
      "0.002388042914752031\n",
      "0.002250266736281037\n",
      "0.0021218695919617003\n",
      "0.002001811235249784\n",
      "0.0018904664195769083\n",
      "0.0017853830985690156\n",
      "0.0016859041274652764\n",
      "0.0015933480567356106\n",
      "0.0015060747302443334\n",
      "0.0014243077545273986\n",
      "0.0013465929746412364\n",
      "0.0012733131030684408\n",
      "0.0012043062686333261\n",
      "0.001139574795983922\n",
      "0.0010781616375348246\n",
      "0.0010197478390505665\n",
      "0.000965018819554575\n",
      "0.0009132147167035809\n",
      "0.0008643978216398285\n",
      "0.0008179481770212993\n",
      "0.0007740864705336747\n",
      "0.0007326128594741244\n",
      "0.0006935377555525868\n",
      "0.0006564352433642284\n",
      "0.0006211161446920688\n",
      "0.0005878593214563299\n",
      "0.0005562894227765236\n",
      "0.00052656620936542\n",
      "0.0004983495679982131\n",
      "0.0004715249287959855\n",
      "0.0004461463786711306\n",
      "0.000422204097892398\n",
      "0.00039943532070008114\n",
      "0.0003779623271755739\n",
      "0.00035757890752952104\n",
      "0.0003381958971683252\n",
      "0.00031977782356895634\n",
      "0.00030238998397680295\n",
      "0.0002859818482798815\n",
      "0.00027038302688286997\n",
      "0.00025559742532643703\n",
      "0.00024159779876298249\n",
      "0.00022839213203440512\n",
      "0.0002158749799454629\n",
      "0.0002040171920275613\n",
      "0.00019278009789824857\n",
      "0.00018214904220392736\n",
      "0.0001721174411376536\n",
      "0.0001626941766236234\n",
      "0.00015383487337383706\n",
      "0.00014545501730534038\n",
      "0.0001375411892647893\n",
      "0.00013005873232385667\n",
      "0.00012299076032362688\n",
      "0.0001163065248442896\n",
      "0.00010998347561463895\n",
      "0.00010400051558168144\n",
      "9.837284406577496e-05\n",
      "9.305179822283183e-05\n",
      "8.800954002408101e-05\n",
      "8.323088037898163e-05\n",
      "7.870207278426467e-05\n",
      "7.441023436427496e-05\n",
      "7.034324834109817e-05\n",
      "6.648969071609834e-05\n",
      "6.283876861135074e-05\n",
      "5.938026747542846e-05\n",
      "5.610450566329028e-05\n",
      "5.30022952051068e-05\n",
      "5.006490773118433e-05\n",
      "4.728404469855896e-05\n",
      "4.4651812032836524e-05\n",
      "4.2176376618296985e-05\n",
      "3.9834244094816285e-05\n",
      "3.761722268014189e-05\n",
      "3.551900931308971e-05\n",
      "3.3533596142998334e-05\n",
      "3.165525660109303e-05\n",
      "2.9878532508798017e-05\n",
      "2.8198222061570632e-05\n",
      "2.6609368561025804e-05\n",
      "2.510724979032375e-05\n",
      "2.3687367942892834e-05\n",
      "2.2345440046422915e-05\n",
      "2.1077388814516596e-05\n",
      "1.987933389135943e-05\n",
      "1.874758346276373e-05\n",
      "1.767862616475213e-05\n",
      "1.6669123256596308e-05\n",
      "1.5715901243495978e-05\n",
      "1.4815944601620501e-05\n",
      "1.396638881934198e-05\n",
      "1.3164513690822055e-05\n",
      "1.2407736838637717e-05\n",
      "1.1693607478657775e-05\n",
      "1.1019800423173187e-05\n",
      "1.0384110280758918e-05\n",
      "9.784445889060578e-06\n",
      "9.218824948198368e-06\n",
      "8.686664388912746e-06\n",
      "8.185134132254746e-06\n",
      "7.712072945254e-06\n",
      "7.265909455322905e-06\n",
      "6.845154999046699e-06\n",
      "6.4483996196074145e-06\n",
      "6.074308234405024e-06\n",
      "5.7216169573326425e-06\n",
      "5.389129578370344e-06\n",
      "5.0757141911716985e-06\n",
      "4.780299966311574e-06\n",
      "4.501874069529066e-06\n",
      "4.239478710310607e-06\n",
      "3.992208331360381e-06\n",
      "3.7592069174197107e-06\n",
      "3.539665435203787e-06\n",
      "3.332819387802388e-06\n",
      "3.1379464864311757e-06\n",
      "2.954364430651779e-06\n",
      "2.7814287990590714e-06\n",
      "2.618531036113758e-06\n",
      "2.4650965427808202e-06\n",
      "2.3205828580952215e-06\n",
      "2.18447793154386e-06\n",
      "2.0562984829330944e-06\n",
      "1.935588441748237e-06\n",
      "1.821917472000223e-06\n",
      "1.7148795627974778e-06\n",
      "1.6140917020734946e-06\n",
      "1.5191926093782726e-06\n",
      "1.4298415412783427e-06\n",
      "1.3457171560427028e-06\n",
      "1.2665164377256843e-06\n",
      "1.1919536800908404e-06\n",
      "1.1217595189405571e-06\n",
      "1.0556800226213525e-06\n",
      "9.934758262719612e-07\n",
      "Value iteration converged after 168 iterations.\n"
     ]
    }
   ],
   "source": [
    "foo = Bernoulli2Diffusion(theta=0.6, cost=-.001, sigma=(0.6,0.6), state_range=40)\n",
    "# view_solution(foo)"
   ]
  },
  {
   "cell_type": "code",
   "execution_count": 18,
   "metadata": {},
   "outputs": [
    {
     "data": {
      "text/plain": [
       "(<Figure size 640x480 with 1 Axes>, <Axes: >)"
      ]
     },
     "execution_count": 18,
     "metadata": {},
     "output_type": "execute_result"
    },
    {
     "data": {
      "image/png": "[encoded data removed]",
      "text/plain": [
       "<Figure size 640x480 with 1 Axes>"
      ]
     },
     "metadata": {},
     "output_type": "display_data"
    }
   ],
   "source": [
    "view_slice(foo, 20)"
   ]
  },
  {
   "cell_type": "code",
   "execution_count": 174,
   "metadata": {},
   "outputs": [
    {
     "data": {
      "text/plain": [
       "(47, True)"
      ]
     },
     "execution_count": 174,
     "metadata": {},
     "output_type": "execute_result"
    }
   ],
   "source": [
    "foo.simulate_agent((True, False), True, (0,0))"
   ]
  },
  {
   "cell_type": "code",
   "execution_count": 31,
   "metadata": {},
   "outputs": [],
   "source": [
    "ptasks = np.linspace(0.5, 1.0, 21)\n",
    "theta = 0.75\n",
    "cost = -.001"
   ]
  },
  {
   "cell_type": "code",
   "execution_count": 32,
   "metadata": {},
   "outputs": [
    {
     "name": "stdout",
     "output_type": "stream",
     "text": [
      "Finished after 17 iterations.\n",
      "Finished after 25 iterations.\n",
      "Finished after 27 iterations.\n",
      "Finished after 29 iterations.\n",
      "Finished after 29 iterations.\n",
      "Finished after 29 iterations.\n",
      "Finished after 30 iterations.\n",
      "Finished after 31 iterations.\n",
      "Finished after 31 iterations.\n",
      "Finished after 31 iterations.\n",
      "Finished after 31 iterations.\n",
      "Finished after 31 iterations.\n",
      "Finished after 31 iterations.\n",
      "Finished after 31 iterations.\n",
      "Finished after 31 iterations.\n",
      "Finished after 32 iterations.\n",
      "Finished after 32 iterations.\n",
      "Finished after 32 iterations.\n",
      "Finished after 33 iterations.\n",
      "Finished after 33 iterations.\n",
      "Finished after 33 iterations.\n"
     ]
    }
   ],
   "source": [
    "rt_con = np.empty(ptasks.size)\n",
    "rt_inc = np.empty_like(rt_con)\n",
    "acc_con = np.empty_like(rt_con)\n",
    "acc_inc = np.empty_like(rt_con)\n",
    "\n",
    "for i, p in enumerate(ptasks):\n",
    "    rt_con[i], rt_inc[i], acc_con[i], acc_inc[i] = incongruency_effect(Bernoulli2Diffusion((theta, theta), p, cost))"
   ]
  },
  {
   "cell_type": "code",
   "execution_count": 35,
   "metadata": {},
   "outputs": [
    {
     "data": {
      "text/plain": [
       "array([ 5.8618,  7.035 ,  8.2772,  8.3594,  8.8471,  8.8198, 10.0216,\n",
       "       10.0717, 10.0848, 10.0973, 10.1812,  9.9763, 10.0124, 10.0344,\n",
       "       10.3175, 10.7423, 12.0982, 11.9538, 12.0078, 11.9638, 12.04  ])"
      ]
     },
     "execution_count": 35,
     "metadata": {},
     "output_type": "execute_result"
    }
   ],
   "source": []
  }
 ],
 "metadata": {
  "kernelspec": {
   "display_name": "taskuncertainty",
   "language": "python",
   "name": "python3"
  },
  "language_info": {
   "codemirror_mode": {
    "name": "ipython",
    "version": 3
   },
   "file_extension": ".py",
   "mimetype": "text/x-python",
   "name": "python",
   "nbconvert_exporter": "python",
   "pygments_lexer": "ipython3",
   "version": "3.11.5"
  }
 },
 "nbformat": 4,
 "nbformat_minor": 2
}
