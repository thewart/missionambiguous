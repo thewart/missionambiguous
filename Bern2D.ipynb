{
 "cells": [
  {
   "cell_type": "code",
   "execution_count": 1,
   "metadata": {},
   "outputs": [],
   "source": [
    "from Bern2D import *\n",
    "import numpy as np"
   ]
  },
  {
   "cell_type": "code",
   "execution_count": 2,
   "metadata": {},
   "outputs": [],
   "source": [
    "foo = Bernoulli2Diffusion(theta=0.6, cost=-.001, sigma=(0.6,0.6))\n",
    "# view_solution(foo)"
   ]
  },
  {
   "cell_type": "code",
   "execution_count": 12,
   "metadata": {},
   "outputs": [
    {
     "data": {
      "text/plain": [
       "(0.5, 0.5)"
      ]
     },
     "execution_count": 12,
     "metadata": {},
     "output_type": "execute_result"
    }
   ],
   "source": [
    "foo.next_z_prob(0)"
   ]
  },
  {
   "cell_type": "code",
   "execution_count": 11,
   "metadata": {},
   "outputs": [
    {
     "data": {
      "text/plain": [
       "0.499"
      ]
     },
     "execution_count": 11,
     "metadata": {},
     "output_type": "execute_result"
    }
   ],
   "source": [
    "foo.state_sample_value((0,0),0,foo.sample_actions[2])"
   ]
  },
  {
   "cell_type": "code",
   "execution_count": 174,
   "metadata": {},
   "outputs": [
    {
     "data": {
      "text/plain": [
       "(47, True)"
      ]
     },
     "execution_count": 174,
     "metadata": {},
     "output_type": "execute_result"
    }
   ],
   "source": [
    "foo.simulate_agent((True, False), True, (0,0))"
   ]
  },
  {
   "cell_type": "code",
   "execution_count": 31,
   "metadata": {},
   "outputs": [],
   "source": [
    "ptasks = np.linspace(0.5, 1.0, 21)\n",
    "theta = 0.75\n",
    "cost = -.001"
   ]
  },
  {
   "cell_type": "code",
   "execution_count": 32,
   "metadata": {},
   "outputs": [
    {
     "name": "stdout",
     "output_type": "stream",
     "text": [
      "Finished after 17 iterations.\n",
      "Finished after 25 iterations.\n",
      "Finished after 27 iterations.\n",
      "Finished after 29 iterations.\n",
      "Finished after 29 iterations.\n",
      "Finished after 29 iterations.\n",
      "Finished after 30 iterations.\n",
      "Finished after 31 iterations.\n",
      "Finished after 31 iterations.\n",
      "Finished after 31 iterations.\n",
      "Finished after 31 iterations.\n",
      "Finished after 31 iterations.\n",
      "Finished after 31 iterations.\n",
      "Finished after 31 iterations.\n",
      "Finished after 31 iterations.\n",
      "Finished after 32 iterations.\n",
      "Finished after 32 iterations.\n",
      "Finished after 32 iterations.\n",
      "Finished after 33 iterations.\n",
      "Finished after 33 iterations.\n",
      "Finished after 33 iterations.\n"
     ]
    }
   ],
   "source": [
    "rt_con = np.empty(ptasks.size)\n",
    "rt_inc = np.empty_like(rt_con)\n",
    "acc_con = np.empty_like(rt_con)\n",
    "acc_inc = np.empty_like(rt_con)\n",
    "\n",
    "for i, p in enumerate(ptasks):\n",
    "    rt_con[i], rt_inc[i], acc_con[i], acc_inc[i] = incongruency_effect(Bernoulli2Diffusion((theta, theta), p, cost))"
   ]
  },
  {
   "cell_type": "code",
   "execution_count": 35,
   "metadata": {},
   "outputs": [
    {
     "data": {
      "text/plain": [
       "array([ 5.8618,  7.035 ,  8.2772,  8.3594,  8.8471,  8.8198, 10.0216,\n",
       "       10.0717, 10.0848, 10.0973, 10.1812,  9.9763, 10.0124, 10.0344,\n",
       "       10.3175, 10.7423, 12.0982, 11.9538, 12.0078, 11.9638, 12.04  ])"
      ]
     },
     "execution_count": 35,
     "metadata": {},
     "output_type": "execute_result"
    }
   ],
   "source": []
  }
 ],
 "metadata": {
  "kernelspec": {
   "display_name": "taskuncertainty",
   "language": "python",
   "name": "python3"
  },
  "language_info": {
   "codemirror_mode": {
    "name": "ipython",
    "version": 3
   },
   "file_extension": ".py",
   "mimetype": "text/x-python",
   "name": "python",
   "nbconvert_exporter": "python",
   "pygments_lexer": "ipython3",
   "version": "3.11.5"
  }
 },
 "nbformat": 4,
 "nbformat_minor": 2
}
